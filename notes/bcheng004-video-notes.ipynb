{
 "cells": [
  {
   "cell_type": "code",
   "execution_count": 9,
   "source": [
    "# %load_ext autoreload\r\n",
    "# %autoreload 2\r\n",
    "import warnings\r\n",
    "warnings.simplefilter(action='ignore')"
   ],
   "outputs": [],
   "metadata": {}
  },
  {
   "cell_type": "markdown",
   "source": [
    "#### Dev Intro to Data Science\r\n",
    "\r\n",
    "* 👨🏻‍🏫 [youtube playlist](https://www.youtube.com/playlist?list=PLlrxD0HtieHjDop2DtiCmwTTcrlwKAVHE)\r\n",
    "* 👨🏻‍💻 [github](https://github.com/microsoft/c9-dev-intro-data-science/?WT.mc_id=DevIntroDS-Ch9-Lazzeri)\r\n",
    "\r\n",
    "Videos\r\n",
    "\r\n",
    "1. [Intro to the Developer's Intro to DS Video Series](https://www.youtube.com/watch?v=cUHXjTdMdYc&list=PLlrxD0HtieHjDop2DtiCmwTTcrlwKAVHE&index=2)\r\n",
    "1. [What is the DS Lifecycle?](https://www.youtube.com/watch?v=LeEj3S4Okao&list=PLlrxD0HtieHjDop2DtiCmwTTcrlwKAVHE&index=3)\r\n",
    "1. [How do you define your business goal and scope of your data science solution?](https://www.youtube.com/watch?v=mft6VuRv8q8&list=PLlrxD0HtieHjDop2DtiCmwTTcrlwKAVHE&index=3)\r\n",
    "    * predict how many bikes will be rented in the next hour\r\n",
    "1. [What is ML?](https://www.youtube.com/watch?v=jX2hSjiI5Y0&list=PLlrxD0HtieHjDop2DtiCmwTTcrlwKAVHE&index=4)\r\n",
    "1. [Which ML Algorithm Should You Use?](https://www.youtube.com/watch?v=iFyRujSaEmw&list=PLlrxD0HtieHjDop2DtiCmwTTcrlwKAVHE&index=5)\r\n",
    "    * [cheatsheet](https://www.aka.ms/AlgorithmCheatSheet)\r\n",
    "1. [What is AutoML?](https://www.youtube.com/watch?v=lrv9btrzDY8&list=PLlrxD0HtieHjDop2DtiCmwTTcrlwKAVHE&index=6)\r\n",
    "    * [AutomatedML](https://www.aka.ms/AutomatedML)\r\n",
    "    * [AutoMLConfig-Class](https://www.aka.ms/AutoMLConfig-Class)\r\n",
    "1. [How do you create a machine learning resource in Azure](https://www.youtube.com/watch?v=c1MIP4zbdto&list=PLlrxD0HtieHjDop2DtiCmwTTcrlwKAVHE&index=7)\r\n",
    "1. [How do you setup your local environment for data exploration?](https://www.youtube.com/watch?v=5E3WMb8_T3s&list=PLlrxD0HtieHjDop2DtiCmwTTcrlwKAVHE&index=8)\r\n",
    "    * azureml-train-automl is dependent on python 3.7 as pmdarima is not compatible with 3.8\r\n",
    "    * ended up installing Anaconda3-5.3.0\r\n",
    "1. [How do Jupyter notebooks work in Visual Studio Code?](https://www.youtube.com/watch?v=ilFYqD2SR4k&list=PLlrxD0HtieHjDop2DtiCmwTTcrlwKAVHE&index=9)\r\n",
    "1. [Connect your ML resources to your local VSCode environment?](https://www.youtube.com/watch?v=tgz3uxxbj4I&list=PLlrxD0HtieHjDop2DtiCmwTTcrlwKAVHE&index=10)\r\n",
    "    * where code really starts\r\n",
    "1. [How do you prepare your data for time series forecast?](https://www.youtube.com/watch?v=N55wemye7z0&list=PLlrxD0HtieHjDop2DtiCmwTTcrlwKAVHE&index=11)\r\n",
    "1. [Why do you split data into testing and training data in DS?](https://www.youtube.com/watch?v=_vdMKioCXqQ&list=PLlrxD0HtieHjDop2DtiCmwTTcrlwKAVHE&index=12)\r\n",
    "1. [What is an AutoML Config file?](https://www.youtube.com/watch?v=ghzWYLdwW6c&list=PLlrxD0HtieHjDop2DtiCmwTTcrlwKAVHE&index=13)\r\n",
    "1. [What should your parameters be when creating an AutoML Config file?](https://www.youtube.com/watch?v=g5daLl3w0Tk&list=PLlrxD0HtieHjDop2DtiCmwTTcrlwKAVHE&index=14)\r\n",
    "    * Primary metric: normalized RMSE\r\n",
    "    * blacklisted models: xtreme random trees\r\n",
    "1. [How do you create an AutoML Config file & run your DS experiments on the cloud?](https://www.youtube.com/watch?v=JbFM8N4gLOg&list=PLlrxD0HtieHjDop2DtiCmwTTcrlwKAVHE&index=15)\r\n",
    "1. [What is Azure Machine Learning?](https://www.youtube.com/watch?v=DLPvtW3VR-U&list=PLlrxD0HtieHjDop2DtiCmwTTcrlwKAVHE&index=16)\r\n",
    "    * authoring tools: notebooks, automl, designer\r\n",
    "    * assets: datasets, experiments, ml workflow pipelines, models, deployments\r\n",
    "    * management: compute, datastores, workspaces\r\n",
    "1. [How can you collaborate on Jupyter Notebooks using Azure Machine Learning studio?](https://www.youtube.com/watch?v=UWloNB59WNQ&list=PLlrxD0HtieHjDop2DtiCmwTTcrlwKAVHE&index=17)\r\n",
    "    * where we go to azure ml studio and use notebooks\r\n",
    "1. [How do you choose the best model and perform feature engineering?](https://www.youtube.com/watch?v=_zE0s-9Vlm8&list=PLlrxD0HtieHjDop2DtiCmwTTcrlwKAVHE&index=18)\r\n",
    "    * [AutoMLfeaturization](https://www.aka.ms/AutoMLfeaturization)\r\n",
    "1. [How do you use Azure ML for best model selection and featurization](https://www.youtube.com/watch?v=pJguzRzbfug&list=PLlrxD0HtieHjDop2DtiCmwTTcrlwKAVHE&index=19)\r\n",
    "1. [How do you evaluate and retrieve a time series forecast from Azure ML?](https://www.youtube.com/watch?v=Lbb7b7rlN3g&list=PLlrxD0HtieHjDop2DtiCmwTTcrlwKAVHE&index=20)\r\n",
    "1. [How do you score your machine learning model on accuracy?](https://www.youtube.com/watch?v=skSrSLBruVU&list=PLlrxD0HtieHjDop2DtiCmwTTcrlwKAVHE&index=21)\r\n",
    "1. [How do you deploy a machine learning model as a web service within Azure?](https://www.youtube.com/watch?v=n8h6_Expf38&list=PLlrxD0HtieHjDop2DtiCmwTTcrlwKAVHE&index=22)"
   ],
   "metadata": {}
  },
  {
   "cell_type": "code",
   "execution_count": 11,
   "source": [
    "# !pip install -U --user azureml-sdk\r\n",
    "# !pip install -U --user azureml-sdk[automl,explain]\r\n",
    "# !pip install -U --user azureml-train-automl"
   ],
   "outputs": [],
   "metadata": {}
  },
  {
   "cell_type": "code",
   "execution_count": 7,
   "source": [
    "import azureml.core\r\n",
    "import pandas as pd\r\n",
    "import numpy as np\r\n",
    "import logging\r\n",
    "\r\n",
    "print(f\"AzureML SDK Version: {azureml.core.VERSION}\")"
   ],
   "outputs": [
    {
     "output_type": "stream",
     "name": "stdout",
     "text": [
      "AzureML SDK Version: 1.33.0\n"
     ]
    }
   ],
   "metadata": {}
  },
  {
   "cell_type": "code",
   "execution_count": 10,
   "source": [
    "from azureml.core import Workspace, Experiment\r\n",
    "\r\n",
    "ws = Workspace.from_config()\r\n",
    "experiment_name = \"automl_bikeshare_forecast\"\r\n",
    "experiment = Experiment(ws,experiment_name)"
   ],
   "outputs": [
    {
     "output_type": "stream",
     "name": "stdout",
     "text": [
      "Performing interactive authentication. Please follow the instructions on the terminal.\n"
     ]
    },
    {
     "output_type": "stream",
     "name": "stderr",
     "text": [
      "Note, we have launched a browser for you to login. For old experience with device code, use \"az login --use-device-code\"\n"
     ]
    },
    {
     "output_type": "stream",
     "name": "stdout",
     "text": [
      "You have logged in. Now let us find all the subscriptions to which you have access...\n",
      "Interactive authentication successfully completed.\n"
     ]
    }
   ],
   "metadata": {}
  },
  {
   "cell_type": "code",
   "execution_count": 11,
   "source": [
    "from azureml.core.compute import AmlCompute, ComputeTarget\r\n",
    "\r\n",
    "amlcompute_cluster_name = \"cpu-cluster\"\r\n",
    "provisioning_config = AmlCompute.provisioning_configuration(vm_size=\"STANDARD_D2_V2\",max_nodes=4)\r\n",
    "compute_target = ComputeTarget.create(ws,amlcompute_cluster_name,provisioning_config)\r\n",
    "compute_target.wait_for_completion(show_output=True,min_node_count=None,timeout_in_minutes=20)"
   ],
   "outputs": [
    {
     "output_type": "stream",
     "name": "stdout",
     "text": [
      "InProgress...\n",
      "SucceededProvisioning operation finished, operation \"Succeeded\"\n",
      "Succeeded\n",
      "AmlCompute wait for completion finished\n",
      "\n",
      "Minimum number of nodes requested have been provisioned\n"
     ]
    }
   ],
   "metadata": {}
  },
  {
   "cell_type": "code",
   "execution_count": 12,
   "source": [
    "# github_csv_url = \"https://raw.githubusercontent.com/Azure/MachineLearningNotebooks/master/how-to-use-azureml/automated-machine-learning/forecasting-bike-share/bike-no.csv\"\r\n",
    "# bike_no_df = pd.read_csv(github_csv_url,index_col=None)\r\n",
    "csv_name = 'bike-no.csv'\r\n",
    "# bike_no_df.to_csv(csv_name,index=False)\r\n",
    "datastore = ws.get_default_datastore()\r\n",
    "datastore.upload_files(files=[csv_name],target_path=\"dataset/\",overwrite=True,show_progress=True)"
   ],
   "outputs": [
    {
     "output_type": "stream",
     "name": "stdout",
     "text": [
      "Uploading an estimated of 1 files\n",
      "Uploading bike-no.csv\n",
      "Uploaded bike-no.csv, 1 files out of an estimated total of 1\n",
      "Uploaded 1 files\n"
     ]
    },
    {
     "output_type": "execute_result",
     "data": {
      "text/plain": [
       "$AZUREML_DATAREFERENCE_8cd9258443974a79b9da49428a167f48"
      ]
     },
     "metadata": {},
     "execution_count": 12
    }
   ],
   "metadata": {}
  },
  {
   "cell_type": "code",
   "execution_count": 13,
   "source": [
    "from azureml.core import Dataset\r\n",
    "from datetime import datetime\r\n",
    "\r\n",
    "time_column_name, target_column_name = \"date\", \"cnt\"\r\n",
    "dataset = Dataset.Tabular.from_delimited_files(path=[(datastore,f'dataset/{csv_name}')]).with_timestamp_columns(fine_grain_timestamp=time_column_name)\r\n",
    "dataset.take(5).to_pandas_dataframe().reset_index(drop=True)"
   ],
   "outputs": [
    {
     "output_type": "execute_result",
     "data": {
      "text/html": [
       "<div>\n",
       "<style scoped>\n",
       "    .dataframe tbody tr th:only-of-type {\n",
       "        vertical-align: middle;\n",
       "    }\n",
       "\n",
       "    .dataframe tbody tr th {\n",
       "        vertical-align: top;\n",
       "    }\n",
       "\n",
       "    .dataframe thead th {\n",
       "        text-align: right;\n",
       "    }\n",
       "</style>\n",
       "<table border=\"1\" class=\"dataframe\">\n",
       "  <thead>\n",
       "    <tr style=\"text-align: right;\">\n",
       "      <th></th>\n",
       "      <th>instant</th>\n",
       "      <th>date</th>\n",
       "      <th>season</th>\n",
       "      <th>yr</th>\n",
       "      <th>mnth</th>\n",
       "      <th>weekday</th>\n",
       "      <th>weathersit</th>\n",
       "      <th>temp</th>\n",
       "      <th>atemp</th>\n",
       "      <th>hum</th>\n",
       "      <th>windspeed</th>\n",
       "      <th>casual</th>\n",
       "      <th>registered</th>\n",
       "      <th>cnt</th>\n",
       "    </tr>\n",
       "  </thead>\n",
       "  <tbody>\n",
       "    <tr>\n",
       "      <th>0</th>\n",
       "      <td>1</td>\n",
       "      <td>2011-01-01</td>\n",
       "      <td>1</td>\n",
       "      <td>0</td>\n",
       "      <td>1</td>\n",
       "      <td>6</td>\n",
       "      <td>2</td>\n",
       "      <td>0.344167</td>\n",
       "      <td>0.363625</td>\n",
       "      <td>0.805833</td>\n",
       "      <td>0.160446</td>\n",
       "      <td>331</td>\n",
       "      <td>654</td>\n",
       "      <td>985</td>\n",
       "    </tr>\n",
       "    <tr>\n",
       "      <th>1</th>\n",
       "      <td>2</td>\n",
       "      <td>2011-01-02</td>\n",
       "      <td>1</td>\n",
       "      <td>0</td>\n",
       "      <td>1</td>\n",
       "      <td>0</td>\n",
       "      <td>2</td>\n",
       "      <td>0.363478</td>\n",
       "      <td>0.353739</td>\n",
       "      <td>0.696087</td>\n",
       "      <td>0.248539</td>\n",
       "      <td>131</td>\n",
       "      <td>670</td>\n",
       "      <td>801</td>\n",
       "    </tr>\n",
       "    <tr>\n",
       "      <th>2</th>\n",
       "      <td>3</td>\n",
       "      <td>2011-01-03</td>\n",
       "      <td>1</td>\n",
       "      <td>0</td>\n",
       "      <td>1</td>\n",
       "      <td>1</td>\n",
       "      <td>1</td>\n",
       "      <td>0.196364</td>\n",
       "      <td>0.189405</td>\n",
       "      <td>0.437273</td>\n",
       "      <td>0.248309</td>\n",
       "      <td>120</td>\n",
       "      <td>1229</td>\n",
       "      <td>1349</td>\n",
       "    </tr>\n",
       "    <tr>\n",
       "      <th>3</th>\n",
       "      <td>4</td>\n",
       "      <td>2011-01-04</td>\n",
       "      <td>1</td>\n",
       "      <td>0</td>\n",
       "      <td>1</td>\n",
       "      <td>2</td>\n",
       "      <td>1</td>\n",
       "      <td>0.200000</td>\n",
       "      <td>0.212122</td>\n",
       "      <td>0.590435</td>\n",
       "      <td>0.160296</td>\n",
       "      <td>108</td>\n",
       "      <td>1454</td>\n",
       "      <td>1562</td>\n",
       "    </tr>\n",
       "    <tr>\n",
       "      <th>4</th>\n",
       "      <td>5</td>\n",
       "      <td>2011-01-05</td>\n",
       "      <td>1</td>\n",
       "      <td>0</td>\n",
       "      <td>1</td>\n",
       "      <td>3</td>\n",
       "      <td>1</td>\n",
       "      <td>0.226957</td>\n",
       "      <td>0.229270</td>\n",
       "      <td>0.436957</td>\n",
       "      <td>0.186900</td>\n",
       "      <td>82</td>\n",
       "      <td>1518</td>\n",
       "      <td>1600</td>\n",
       "    </tr>\n",
       "  </tbody>\n",
       "</table>\n",
       "</div>"
      ],
      "text/plain": [
       "   instant       date  season  yr  mnth  weekday  weathersit      temp  \\\n",
       "0        1 2011-01-01       1   0     1        6           2  0.344167   \n",
       "1        2 2011-01-02       1   0     1        0           2  0.363478   \n",
       "2        3 2011-01-03       1   0     1        1           1  0.196364   \n",
       "3        4 2011-01-04       1   0     1        2           1  0.200000   \n",
       "4        5 2011-01-05       1   0     1        3           1  0.226957   \n",
       "\n",
       "      atemp       hum  windspeed  casual  registered   cnt  \n",
       "0  0.363625  0.805833   0.160446     331         654   985  \n",
       "1  0.353739  0.696087   0.248539     131         670   801  \n",
       "2  0.189405  0.437273   0.248309     120        1229  1349  \n",
       "3  0.212122  0.590435   0.160296     108        1454  1562  \n",
       "4  0.229270  0.436957   0.186900      82        1518  1600  "
      ]
     },
     "metadata": {},
     "execution_count": 13
    }
   ],
   "metadata": {}
  },
  {
   "cell_type": "code",
   "execution_count": 14,
   "source": [
    "train = dataset.time_before(datetime(2012,8,31),include_boundary=True)\r\n",
    "train.to_pandas_dataframe().tail(5).reset_index(drop=True)\r\n",
    "# choosing ~75% of data for train size"
   ],
   "outputs": [
    {
     "output_type": "execute_result",
     "data": {
      "text/html": [
       "<div>\n",
       "<style scoped>\n",
       "    .dataframe tbody tr th:only-of-type {\n",
       "        vertical-align: middle;\n",
       "    }\n",
       "\n",
       "    .dataframe tbody tr th {\n",
       "        vertical-align: top;\n",
       "    }\n",
       "\n",
       "    .dataframe thead th {\n",
       "        text-align: right;\n",
       "    }\n",
       "</style>\n",
       "<table border=\"1\" class=\"dataframe\">\n",
       "  <thead>\n",
       "    <tr style=\"text-align: right;\">\n",
       "      <th></th>\n",
       "      <th>instant</th>\n",
       "      <th>date</th>\n",
       "      <th>season</th>\n",
       "      <th>yr</th>\n",
       "      <th>mnth</th>\n",
       "      <th>weekday</th>\n",
       "      <th>weathersit</th>\n",
       "      <th>temp</th>\n",
       "      <th>atemp</th>\n",
       "      <th>hum</th>\n",
       "      <th>windspeed</th>\n",
       "      <th>casual</th>\n",
       "      <th>registered</th>\n",
       "      <th>cnt</th>\n",
       "    </tr>\n",
       "  </thead>\n",
       "  <tbody>\n",
       "    <tr>\n",
       "      <th>0</th>\n",
       "      <td>605</td>\n",
       "      <td>2012-08-27</td>\n",
       "      <td>3</td>\n",
       "      <td>1</td>\n",
       "      <td>8</td>\n",
       "      <td>1</td>\n",
       "      <td>1</td>\n",
       "      <td>0.703333</td>\n",
       "      <td>0.654688</td>\n",
       "      <td>0.730417</td>\n",
       "      <td>0.128733</td>\n",
       "      <td>989</td>\n",
       "      <td>5928</td>\n",
       "      <td>6917</td>\n",
       "    </tr>\n",
       "    <tr>\n",
       "      <th>1</th>\n",
       "      <td>606</td>\n",
       "      <td>2012-08-28</td>\n",
       "      <td>3</td>\n",
       "      <td>1</td>\n",
       "      <td>8</td>\n",
       "      <td>2</td>\n",
       "      <td>1</td>\n",
       "      <td>0.728333</td>\n",
       "      <td>0.666050</td>\n",
       "      <td>0.620000</td>\n",
       "      <td>0.190925</td>\n",
       "      <td>935</td>\n",
       "      <td>6105</td>\n",
       "      <td>7040</td>\n",
       "    </tr>\n",
       "    <tr>\n",
       "      <th>2</th>\n",
       "      <td>607</td>\n",
       "      <td>2012-08-29</td>\n",
       "      <td>3</td>\n",
       "      <td>1</td>\n",
       "      <td>8</td>\n",
       "      <td>3</td>\n",
       "      <td>1</td>\n",
       "      <td>0.685000</td>\n",
       "      <td>0.635733</td>\n",
       "      <td>0.552083</td>\n",
       "      <td>0.112562</td>\n",
       "      <td>1177</td>\n",
       "      <td>6520</td>\n",
       "      <td>7697</td>\n",
       "    </tr>\n",
       "    <tr>\n",
       "      <th>3</th>\n",
       "      <td>608</td>\n",
       "      <td>2012-08-30</td>\n",
       "      <td>3</td>\n",
       "      <td>1</td>\n",
       "      <td>8</td>\n",
       "      <td>4</td>\n",
       "      <td>1</td>\n",
       "      <td>0.706667</td>\n",
       "      <td>0.652779</td>\n",
       "      <td>0.590417</td>\n",
       "      <td>0.077117</td>\n",
       "      <td>1172</td>\n",
       "      <td>6541</td>\n",
       "      <td>7713</td>\n",
       "    </tr>\n",
       "    <tr>\n",
       "      <th>4</th>\n",
       "      <td>609</td>\n",
       "      <td>2012-08-31</td>\n",
       "      <td>3</td>\n",
       "      <td>1</td>\n",
       "      <td>8</td>\n",
       "      <td>5</td>\n",
       "      <td>1</td>\n",
       "      <td>0.764167</td>\n",
       "      <td>0.689400</td>\n",
       "      <td>0.587500</td>\n",
       "      <td>0.168533</td>\n",
       "      <td>1433</td>\n",
       "      <td>5917</td>\n",
       "      <td>7350</td>\n",
       "    </tr>\n",
       "  </tbody>\n",
       "</table>\n",
       "</div>"
      ],
      "text/plain": [
       "   instant       date  season  yr  mnth  weekday  weathersit      temp  \\\n",
       "0      605 2012-08-27       3   1     8        1           1  0.703333   \n",
       "1      606 2012-08-28       3   1     8        2           1  0.728333   \n",
       "2      607 2012-08-29       3   1     8        3           1  0.685000   \n",
       "3      608 2012-08-30       3   1     8        4           1  0.706667   \n",
       "4      609 2012-08-31       3   1     8        5           1  0.764167   \n",
       "\n",
       "      atemp       hum  windspeed  casual  registered   cnt  \n",
       "0  0.654688  0.730417   0.128733     989        5928  6917  \n",
       "1  0.666050  0.620000   0.190925     935        6105  7040  \n",
       "2  0.635733  0.552083   0.112562    1177        6520  7697  \n",
       "3  0.652779  0.590417   0.077117    1172        6541  7713  \n",
       "4  0.689400  0.587500   0.168533    1433        5917  7350  "
      ]
     },
     "metadata": {},
     "execution_count": 14
    }
   ],
   "metadata": {}
  },
  {
   "cell_type": "code",
   "execution_count": 15,
   "source": [
    "test = dataset.time_after(datetime(2012,9,1),include_boundary=True)\r\n",
    "test.to_pandas_dataframe().head(5).reset_index(drop=True)"
   ],
   "outputs": [
    {
     "output_type": "execute_result",
     "data": {
      "text/html": [
       "<div>\n",
       "<style scoped>\n",
       "    .dataframe tbody tr th:only-of-type {\n",
       "        vertical-align: middle;\n",
       "    }\n",
       "\n",
       "    .dataframe tbody tr th {\n",
       "        vertical-align: top;\n",
       "    }\n",
       "\n",
       "    .dataframe thead th {\n",
       "        text-align: right;\n",
       "    }\n",
       "</style>\n",
       "<table border=\"1\" class=\"dataframe\">\n",
       "  <thead>\n",
       "    <tr style=\"text-align: right;\">\n",
       "      <th></th>\n",
       "      <th>instant</th>\n",
       "      <th>date</th>\n",
       "      <th>season</th>\n",
       "      <th>yr</th>\n",
       "      <th>mnth</th>\n",
       "      <th>weekday</th>\n",
       "      <th>weathersit</th>\n",
       "      <th>temp</th>\n",
       "      <th>atemp</th>\n",
       "      <th>hum</th>\n",
       "      <th>windspeed</th>\n",
       "      <th>casual</th>\n",
       "      <th>registered</th>\n",
       "      <th>cnt</th>\n",
       "    </tr>\n",
       "  </thead>\n",
       "  <tbody>\n",
       "    <tr>\n",
       "      <th>0</th>\n",
       "      <td>610</td>\n",
       "      <td>2012-09-01</td>\n",
       "      <td>3</td>\n",
       "      <td>1</td>\n",
       "      <td>9</td>\n",
       "      <td>6</td>\n",
       "      <td>2</td>\n",
       "      <td>0.753333</td>\n",
       "      <td>0.702654</td>\n",
       "      <td>0.638333</td>\n",
       "      <td>0.113187</td>\n",
       "      <td>2352</td>\n",
       "      <td>3788</td>\n",
       "      <td>6140</td>\n",
       "    </tr>\n",
       "    <tr>\n",
       "      <th>1</th>\n",
       "      <td>611</td>\n",
       "      <td>2012-09-02</td>\n",
       "      <td>3</td>\n",
       "      <td>1</td>\n",
       "      <td>9</td>\n",
       "      <td>0</td>\n",
       "      <td>2</td>\n",
       "      <td>0.696667</td>\n",
       "      <td>0.649000</td>\n",
       "      <td>0.815000</td>\n",
       "      <td>0.064071</td>\n",
       "      <td>2613</td>\n",
       "      <td>3197</td>\n",
       "      <td>5810</td>\n",
       "    </tr>\n",
       "    <tr>\n",
       "      <th>2</th>\n",
       "      <td>612</td>\n",
       "      <td>2012-09-03</td>\n",
       "      <td>3</td>\n",
       "      <td>1</td>\n",
       "      <td>9</td>\n",
       "      <td>1</td>\n",
       "      <td>1</td>\n",
       "      <td>0.707500</td>\n",
       "      <td>0.661629</td>\n",
       "      <td>0.790833</td>\n",
       "      <td>0.151121</td>\n",
       "      <td>1965</td>\n",
       "      <td>4069</td>\n",
       "      <td>6034</td>\n",
       "    </tr>\n",
       "    <tr>\n",
       "      <th>3</th>\n",
       "      <td>613</td>\n",
       "      <td>2012-09-04</td>\n",
       "      <td>3</td>\n",
       "      <td>1</td>\n",
       "      <td>9</td>\n",
       "      <td>2</td>\n",
       "      <td>1</td>\n",
       "      <td>0.725833</td>\n",
       "      <td>0.686888</td>\n",
       "      <td>0.755000</td>\n",
       "      <td>0.236321</td>\n",
       "      <td>867</td>\n",
       "      <td>5997</td>\n",
       "      <td>6864</td>\n",
       "    </tr>\n",
       "    <tr>\n",
       "      <th>4</th>\n",
       "      <td>614</td>\n",
       "      <td>2012-09-05</td>\n",
       "      <td>3</td>\n",
       "      <td>1</td>\n",
       "      <td>9</td>\n",
       "      <td>3</td>\n",
       "      <td>1</td>\n",
       "      <td>0.736667</td>\n",
       "      <td>0.708983</td>\n",
       "      <td>0.741250</td>\n",
       "      <td>0.187808</td>\n",
       "      <td>832</td>\n",
       "      <td>6280</td>\n",
       "      <td>7112</td>\n",
       "    </tr>\n",
       "  </tbody>\n",
       "</table>\n",
       "</div>"
      ],
      "text/plain": [
       "   instant       date  season  yr  mnth  weekday  weathersit      temp  \\\n",
       "0      610 2012-09-01       3   1     9        6           2  0.753333   \n",
       "1      611 2012-09-02       3   1     9        0           2  0.696667   \n",
       "2      612 2012-09-03       3   1     9        1           1  0.707500   \n",
       "3      613 2012-09-04       3   1     9        2           1  0.725833   \n",
       "4      614 2012-09-05       3   1     9        3           1  0.736667   \n",
       "\n",
       "      atemp       hum  windspeed  casual  registered   cnt  \n",
       "0  0.702654  0.638333   0.113187    2352        3788  6140  \n",
       "1  0.649000  0.815000   0.064071    2613        3197  5810  \n",
       "2  0.661629  0.790833   0.151121    1965        4069  6034  \n",
       "3  0.686888  0.755000   0.236321     867        5997  6864  \n",
       "4  0.708983  0.741250   0.187808     832        6280  7112  "
      ]
     },
     "metadata": {},
     "execution_count": 15
    }
   ],
   "metadata": {}
  },
  {
   "cell_type": "code",
   "execution_count": 16,
   "source": [
    "from azureml.train.automl import AutoMLConfig\r\n",
    "\r\n",
    "time_series_settings = {\r\n",
    "    'time_column_name': time_column_name,\r\n",
    "    'max_horizon': 14,\r\n",
    "    'country_or_region': 'US',\r\n",
    "    'target_lags': 'auto',\r\n",
    "    'drop_column_names': ['casual','registered']\r\n",
    "}\r\n",
    "automl_config = AutoMLConfig(\r\n",
    "    task='forecasting',\r\n",
    "    primary_metric='normalized_root_mean_squared_error',\r\n",
    "    blacklist_models=['ExtremeRandomTrees'],\r\n",
    "    experiment_timeout_minutes=30,\r\n",
    "    training_data=train,\r\n",
    "    label_column_name=target_column_name,\r\n",
    "    compute_target=compute_target,\r\n",
    "    enable_early_stopping=True,\r\n",
    "    n_cross_validations=3,\r\n",
    "    max_concurrent_iterations=4,\r\n",
    "    max_cores_per_iteration=-1,\r\n",
    "    verbosity=logging.INFO,\r\n",
    "    **time_series_settings\r\n",
    ")"
   ],
   "outputs": [
    {
     "output_type": "stream",
     "name": "stderr",
     "text": [
      "WARNING:root:Parameter 'blacklist_models' will be deprecated. Use 'blocked_models'\n",
      "WARNING:root:Parameter 'drop_column_names' will be deprecated. Please drop columns from your datasets as part of your data preparation process before providing the datasets to AutoML.\n"
     ]
    }
   ],
   "metadata": {}
  },
  {
   "cell_type": "code",
   "execution_count": 17,
   "source": [
    "remote_run = experiment.submit(automl_config,show_output=False)\r\n",
    "remote_run"
   ],
   "outputs": [
    {
     "output_type": "stream",
     "name": "stdout",
     "text": [
      "Submitting remote run.\n"
     ]
    },
    {
     "output_type": "display_data",
     "data": {
      "text/html": [
       "<table style=\"width:100%\"><tr><th>Experiment</th><th>Id</th><th>Type</th><th>Status</th><th>Details Page</th><th>Docs Page</th></tr><tr><td>automl_bikeshare_forecast</td><td>AutoML_acf975c6-d04c-40bf-8551-a3d01f370595</td><td>automl</td><td>NotStarted</td><td><a href=\"https://ml.azure.com/runs/AutoML_acf975c6-d04c-40bf-8551-a3d01f370595?wsid=/subscriptions/65881521-f775-4359-a9d9-a122ba465711/resourcegroups/DevIntroDS_ResourceGroup/workspaces/DevIntroDS&amp;tid=f26668e5-2944-4a48-abc0-4060b08570e2\" target=\"_blank\" rel=\"noopener\">Link to Azure Machine Learning studio</a></td><td><a href=\"https://docs.microsoft.com/en-us/python/api/overview/azure/ml/intro?view=azure-ml-py\" target=\"_blank\" rel=\"noopener\">Link to Documentation</a></td></tr></table>"
      ],
      "text/plain": [
       "<IPython.core.display.HTML object>"
      ]
     },
     "metadata": {}
    },
    {
     "output_type": "execute_result",
     "data": {
      "text/html": [
       "<table style=\"width:100%\"><tr><th>Experiment</th><th>Id</th><th>Type</th><th>Status</th><th>Details Page</th><th>Docs Page</th></tr><tr><td>automl_bikeshare_forecast</td><td>AutoML_acf975c6-d04c-40bf-8551-a3d01f370595</td><td>automl</td><td>NotStarted</td><td><a href=\"https://ml.azure.com/runs/AutoML_acf975c6-d04c-40bf-8551-a3d01f370595?wsid=/subscriptions/65881521-f775-4359-a9d9-a122ba465711/resourcegroups/DevIntroDS_ResourceGroup/workspaces/DevIntroDS&amp;tid=f26668e5-2944-4a48-abc0-4060b08570e2\" target=\"_blank\" rel=\"noopener\">Link to Azure Machine Learning studio</a></td><td><a href=\"https://docs.microsoft.com/en-us/python/api/overview/azure/ml/intro?view=azure-ml-py\" target=\"_blank\" rel=\"noopener\">Link to Documentation</a></td></tr></table>"
      ],
      "text/plain": [
       "Run(Experiment: automl_bikeshare_forecast,\n",
       "Id: AutoML_acf975c6-d04c-40bf-8551-a3d01f370595,\n",
       "Type: automl,\n",
       "Status: NotStarted)"
      ]
     },
     "metadata": {},
     "execution_count": 17
    }
   ],
   "metadata": {}
  },
  {
   "cell_type": "code",
   "execution_count": 18,
   "source": [
    "remote_run.wait_for_completion()"
   ],
   "outputs": [
    {
     "output_type": "execute_result",
     "data": {
      "text/plain": [
       "{'runId': 'AutoML_acf975c6-d04c-40bf-8551-a3d01f370595',\n",
       " 'target': 'cpu-cluster',\n",
       " 'status': 'Completed',\n",
       " 'startTimeUtc': '2021-09-03T17:04:17.710195Z',\n",
       " 'endTimeUtc': '2021-09-03T17:38:15.619382Z',\n",
       " 'properties': {'num_iterations': '1000',\n",
       "  'training_type': 'TrainFull',\n",
       "  'acquisition_function': 'EI',\n",
       "  'primary_metric': 'normalized_root_mean_squared_error',\n",
       "  'train_split': '0',\n",
       "  'acquisition_parameter': '0',\n",
       "  'num_cross_validation': '3',\n",
       "  'target': 'cpu-cluster',\n",
       "  'AMLSettingsJsonString': '{\"path\":null,\"name\":\"automl_bikeshare_forecast\",\"subscription_id\":\"65881521-f775-4359-a9d9-a122ba465711\",\"resource_group\":\"DevIntroDS_ResourceGroup\",\"workspace_name\":\"DevIntroDS\",\"region\":\"eastus\",\"compute_target\":\"cpu-cluster\",\"spark_service\":null,\"azure_service\":\"remote\",\"many_models\":false,\"pipeline_fetch_max_batch_size\":1,\"enable_batch_run\":false,\"enable_run_restructure\":false,\"start_auxiliary_runs_before_parent_complete\":false,\"enable_code_generation\":false,\"iterations\":1000,\"primary_metric\":\"normalized_root_mean_squared_error\",\"task_type\":\"regression\",\"data_script\":null,\"test_size\":0.0,\"validation_size\":0.0,\"n_cross_validations\":3,\"y_min\":null,\"y_max\":null,\"num_classes\":null,\"featurization\":\"auto\",\"_ignore_package_version_incompatibilities\":false,\"is_timeseries\":true,\"max_cores_per_iteration\":-1,\"max_concurrent_iterations\":4,\"iteration_timeout_minutes\":null,\"mem_in_mb\":null,\"enforce_time_on_windows\":true,\"experiment_timeout_minutes\":30,\"experiment_exit_score\":null,\"whitelist_models\":null,\"blacklist_algos\":[\"ExtremeRandomTrees\",\"TensorFlowDNN\",\"TensorFlowLinearRegressor\"],\"supported_models\":[\"SeasonalNaive\",\"AutoArima\",\"Prophet\",\"TCNForecaster\",\"GradientBoosting\",\"Naive\",\"Arimax\",\"LassoLars\",\"XGBoostRegressor\",\"ElasticNet\",\"LightGBM\",\"SGD\",\"TensorFlowDNN\",\"SeasonalAverage\",\"RandomForest\",\"KNN\",\"TensorFlowLinearRegressor\",\"ExtremeRandomTrees\",\"DecisionTree\",\"ExponentialSmoothing\",\"Average\"],\"private_models\":[],\"auto_blacklist\":true,\"blacklist_samples_reached\":false,\"exclude_nan_labels\":true,\"verbosity\":20,\"_debug_log\":\"azureml_automl.log\",\"show_warnings\":false,\"model_explainability\":true,\"service_url\":null,\"sdk_url\":null,\"sdk_packages\":null,\"enable_onnx_compatible_models\":false,\"enable_split_onnx_featurizer_estimator_models\":false,\"vm_type\":\"STANDARD_D2_V2\",\"telemetry_verbosity\":20,\"send_telemetry\":true,\"enable_dnn\":false,\"scenario\":\"SDK-1.13.0\",\"environment_label\":null,\"save_mlflow\":false,\"language\":\"eng\",\"force_text_dnn\":false,\"enable_feature_sweeping\":false,\"time_column_name\":\"date\",\"grain_column_names\":null,\"drop_column_names\":[\"casual\",\"registered\"],\"max_horizon\":14,\"dropna\":false,\"overwrite_columns\":true,\"transform_dictionary\":{\"min\":\"_automl_target_col\",\"max\":\"_automl_target_col\",\"mean\":\"_automl_target_col\"},\"window_size\":null,\"country_or_region\":\"US\",\"lags\":{\"_automl_target_col\":[\"auto\"]},\"feature_lags\":null,\"seasonality\":\"auto\",\"use_stl\":null,\"short_series_handling\":true,\"freq\":null,\"short_series_handling_configuration\":\"auto\",\"target_aggregation_function\":null,\"enable_early_stopping\":true,\"early_stopping_n_iters\":10,\"metrics\":null,\"enable_metric_confidence\":false,\"enable_ensembling\":true,\"enable_stack_ensembling\":false,\"ensemble_iterations\":15,\"enable_tf\":false,\"enable_subsampling\":false,\"subsample_seed\":null,\"enable_nimbusml\":false,\"enable_streaming\":false,\"force_streaming\":false,\"track_child_runs\":true,\"allowed_private_models\":[],\"label_column_name\":\"cnt\",\"weight_column_name\":null,\"cv_split_column_names\":null,\"enable_local_managed\":false,\"_local_managed_run_id\":null,\"cost_mode\":1,\"lag_length\":0,\"metric_operation\":\"minimize\",\"preprocess\":true}',\n",
       "  'DataPrepJsonString': '{\\\\\"training_data\\\\\": {\\\\\"datasetId\\\\\": \\\\\"e0897093-cd72-419d-aa92-7861db584fe2\\\\\"}, \\\\\"datasets\\\\\": 0}',\n",
       "  'EnableSubsampling': 'False',\n",
       "  'runTemplate': 'AutoML',\n",
       "  'azureml.runsource': 'automl',\n",
       "  'display_task_type': 'forecasting',\n",
       "  'dependencies_versions': '{\"azureml-train-restclients-hyperdrive\": \"1.33.0\", \"azureml-train-core\": \"1.33.0\", \"azureml-train-automl\": \"1.33.1\", \"azureml-train-automl-runtime\": \"1.33.1.post1\", \"azureml-train-automl-client\": \"1.33.0\", \"azureml-telemetry\": \"1.33.0\", \"azureml-sdk\": \"1.33.0.post1\", \"azureml-pipeline\": \"1.33.0\", \"azureml-pipeline-steps\": \"1.33.0\", \"azureml-pipeline-core\": \"1.33.0\", \"azureml-interpret\": \"1.33.0\", \"azureml-explain-model\": \"1.33.0\", \"azureml-defaults\": \"1.33.0\", \"azureml-dataset-runtime\": \"1.33.0\", \"azureml-dataprep\": \"2.20.1\", \"azureml-dataprep-rslex\": \"1.18.2\", \"azureml-dataprep-native\": \"38.0.0\", \"azureml-core\": \"1.33.0.post1\", \"azureml-automl-runtime\": \"1.33.1\", \"azureml-automl-core\": \"1.33.1\"}',\n",
       "  '_aml_system_scenario_identification': 'Remote.Parent',\n",
       "  'ClientType': 'SDK',\n",
       "  'environment_cpu_name': 'AzureML-AutoML',\n",
       "  'environment_cpu_label': 'prod',\n",
       "  'environment_gpu_name': 'AzureML-AutoML-GPU',\n",
       "  'environment_gpu_label': 'prod',\n",
       "  'root_attribution': 'automl',\n",
       "  'attribution': 'AutoML',\n",
       "  'Orchestrator': 'AutoML',\n",
       "  'CancelUri': 'https://eastus.api.azureml.ms/jasmine/v1.0/subscriptions/65881521-f775-4359-a9d9-a122ba465711/resourceGroups/DevIntroDS_ResourceGroup/providers/Microsoft.MachineLearningServices/workspaces/DevIntroDS/experimentids/c8722c1a-8aa7-45d2-93a6-59e28d52329b/cancel/AutoML_acf975c6-d04c-40bf-8551-a3d01f370595',\n",
       "  'azureml.git.repository_uri': 'git@github.com:bcheng004/msft-developer-intro-ds.git',\n",
       "  'mlflow.source.git.repoURL': 'git@github.com:bcheng004/msft-developer-intro-ds.git',\n",
       "  'azureml.git.branch': 'main',\n",
       "  'mlflow.source.git.branch': 'main',\n",
       "  'azureml.git.commit': '1bdf19d1446a8696af47455178604340d461557d',\n",
       "  'mlflow.source.git.commit': '1bdf19d1446a8696af47455178604340d461557d',\n",
       "  'azureml.git.dirty': 'True',\n",
       "  'ClientSdkVersion': '1.33.1.post1',\n",
       "  'snapshotId': '00000000-0000-0000-0000-000000000000',\n",
       "  'SetupRunId': 'AutoML_acf975c6-d04c-40bf-8551-a3d01f370595_setup',\n",
       "  'SetupRunContainerId': 'dcid.AutoML_acf975c6-d04c-40bf-8551-a3d01f370595_setup',\n",
       "  'forecasting_target_lags': '[1]',\n",
       "  'forecasting_target_rolling_window_size': '0',\n",
       "  'forecasting_max_horizon': '14',\n",
       "  'forecasting_freq': 'D',\n",
       "  'ProblemInfoJsonString': '{\"dataset_num_categorical\": 0, \"is_sparse\": false, \"subsampling\": false, \"has_extra_col\": true, \"dataset_classes\": 587, \"dataset_features\": 127, \"dataset_samples\": 8526, \"single_frequency_class_detected\": false, \"series_column_count\": 1, \"series_count\": 1, \"series_len_min\": 609, \"series_len_max\": 609, \"series_len_avg\": 609.0, \"series_len_perc_25\": 609.0, \"series_len_perc_50\": 609.0, \"series_len_perc_75\": 609.0}',\n",
       "  'ModelExplainRunId': 'AutoML_acf975c6-d04c-40bf-8551-a3d01f370595_ModelExplain'},\n",
       " 'inputDatasets': [{'dataset': {'id': 'e0897093-cd72-419d-aa92-7861db584fe2'}, 'consumptionDetails': {'type': 'RunInput', 'inputName': 'training_data', 'mechanism': 'Direct'}}],\n",
       " 'outputDatasets': [],\n",
       " 'logFiles': {},\n",
       " 'submittedBy': 'Bohao Cheng'}"
      ]
     },
     "metadata": {},
     "execution_count": 18
    }
   ],
   "metadata": {}
  }
 ],
 "metadata": {
  "orig_nbformat": 4,
  "language_info": {
   "name": "python",
   "version": "3.7.0",
   "mimetype": "text/x-python",
   "codemirror_mode": {
    "name": "ipython",
    "version": 3
   },
   "pygments_lexer": "ipython3",
   "nbconvert_exporter": "python",
   "file_extension": ".py"
  },
  "kernelspec": {
   "name": "python3",
   "display_name": "Python 3.7.0 64-bit"
  },
  "interpreter": {
   "hash": "961fee12dacd1373a18d1b8aa10b592e6d87f8713f5cf1b9a971545ca71e0b61"
  }
 },
 "nbformat": 4,
 "nbformat_minor": 2
}