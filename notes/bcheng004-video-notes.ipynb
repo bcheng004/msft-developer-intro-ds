{
 "cells": [
  {
   "cell_type": "code",
   "execution_count": 1,
   "source": [
    "%load_ext autoreload\r\n",
    "%autoreload 2\r\n",
    "import warnings\r\n",
    "warnings.simplefilter(action='ignore')"
   ],
   "outputs": [],
   "metadata": {}
  },
  {
   "cell_type": "markdown",
   "source": [
    "#### Dev Intro to Data Science\r\n",
    "\r\n",
    "* :tv: [youtube playlist](https://www.youtube.com/playlist?list=PLlrxD0HtieHjDop2DtiCmwTTcrlwKAVHE)\r\n",
    "* :open_file_folder: \r\n",
    "[github](https://github.com/microsoft/c9-dev-intro-data-science/?WT.mc_id=DevIntroDS-Ch9-Lazzeri)\r\n",
    "\r\n",
    "Videos\r\n",
    "\r\n",
    "1. [Intro to the Developer's Intro to DS Video Series](https://www.youtube.com/watch?v=cUHXjTdMdYc&list=PLlrxD0HtieHjDop2DtiCmwTTcrlwKAVHE&index=2)\r\n",
    "1. [What is the DS Lifecycle?](https://www.youtube.com/watch?v=LeEj3S4Okao&list=PLlrxD0HtieHjDop2DtiCmwTTcrlwKAVHE&index=3)"
   ],
   "metadata": {}
  }
 ],
 "metadata": {
  "orig_nbformat": 4,
  "language_info": {
   "name": "python",
   "version": "3.8.5",
   "mimetype": "text/x-python",
   "codemirror_mode": {
    "name": "ipython",
    "version": 3
   },
   "pygments_lexer": "ipython3",
   "nbconvert_exporter": "python",
   "file_extension": ".py"
  },
  "kernelspec": {
   "name": "python3",
   "display_name": "Python 3.8.5 64-bit (conda)"
  },
  "interpreter": {
   "hash": "64d303618c8ee9f1cee103d362ed2586b5f50e4b11555251f761d52c2b006ae5"
  }
 },
 "nbformat": 4,
 "nbformat_minor": 2
}